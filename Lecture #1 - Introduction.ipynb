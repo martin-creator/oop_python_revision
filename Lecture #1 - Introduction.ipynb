{
 "cells": [
  {
   "cell_type": "code",
   "execution_count": 7,
   "metadata": {},
   "outputs": [],
   "source": [
    "# What is OPP?\n",
    "# OPP is a programming paradigm based on the concept of \"objects\", which can contain data, in the form of fields (often known as attributes or properties), and code, in the form of procedures (often known as methods).\n",
    "# A feature of objects is that an object's procedures can access and often modify the data fields of the object with which they are associated (objects have a notion of \"this\" or \"self\")."
   ]
  },
  {
   "cell_type": "code",
   "execution_count": 8,
   "metadata": {},
   "outputs": [],
   "source": [
    "# Why we use OOP? \n",
    "# OOP provides a clear modular structure for programs which makes it good for defining abstract datatypes in which implementation details are hidden\n",
    "# Objects can also be reused within an across applications. The reuse of software also lowers the cost of development. More effort is put into the object-oriented analysis and design, which lowers the overall cost of development.\n",
    "# It makes software easier to maintain. Since the design is modular, part of the system can be updated in case of issues without a need to make large-scale changes\n",
    "# Reuse also enables faster development. Object-oriented programming languages come with rich libraries of objects, and code developed during projects is also reusable in future projects."
   ]
  },
  {
   "cell_type": "code",
   "execution_count": 9,
   "metadata": {},
   "outputs": [],
   "source": [
    "# What if we don't use OOP? \n",
    "# It is not suitable for small programs as the overhead and complexity of creating classes and objects results in unnecessary complexity\n",
    "# It requires skillful and experienced designers to design the object oriented systems\n",
    "# The unit testing of the object oriented systems is difficult\n",
    "# It is not suitable if the real world object don't have any relationship with each other\n",
    "# For a complex application, the high level of abstraction can be difficult to grasp at the beginning\n",
    "# It is not suitable for the procedural applications such as data processing applications\n"
   ]
  },
  {
   "cell_type": "code",
   "execution_count": 10,
   "metadata": {},
   "outputs": [],
   "source": [
    "# What is Class?\n",
    "# A class is a blueprint for the object.\n",
    "# We can think of class as an sketch of a parrot with labels. It contains all the details about the name, colors, size etc. Based on these descriptions, we can study about the parrot. Here, parrot is an object.\n",
    "# The example for class of parrot can be :\n",
    "# class Parrot:\n",
    "#     pass\n",
    "# Here, we use class keyword to define an empty class Parrot. From class, we construct instances. An instance is a specific object created from a particular class."
   ]
  },
  {
   "cell_type": "code",
   "execution_count": 11,
   "metadata": {},
   "outputs": [],
   "source": [
    "# What is Object and Methods ?\n",
    "# An object is an instance of a class\n",
    "# When class is defined, only the description for the object is defined. Therefore, no memory or storage is allocated.\n",
    "# The example for object of parrot class can be:\n",
    "# obj = Parrot()\n",
    "# Here, obj is object of class Parrot.\n",
    "# Suppose we have details of parrot. Now, we are going to show how to build the class and objects of parrot.\n",
    "# class Parrot:\n",
    "#     # class attribute\n",
    "#     species = \"bird\"\n",
    "#     # instance attribute\n",
    "#     def __init__(self, name, age):\n",
    "#         self.name = name\n",
    "#         self.age = age\n",
    "#     # instance method\n",
    "#     def sing(self, song):\n",
    "#         return \"{} sings {}\".format(self.name, song)\n",
    "#     def dance(self):\n",
    "#         return \"{} is now dancing\".format(self.name)\n",
    "# # instantiate the Parrot class\n",
    "# blu = Parrot(\"Blu\", 10)\n",
    "# woo = Parrot(\"Woo\", 15)\n",
    "# # access the class attributes\n",
    "# print(\"Blu is a {}\".format(blu.__class__.species))\n",
    "# print(\"Woo is also a {}\".format(woo.__class__.species))\n",
    "# A method is a function that “belongs to” an object.\n",
    "# In Python, the term method is not unique to class instances: other object types can have methods as well. For example, list objects have methods called append, insert, remove, sort, and so on. However, we will stick to class instances for now."
   ]
  },
  {
   "cell_type": "code",
   "execution_count": null,
   "metadata": {},
   "outputs": [],
   "source": [
    "# Difference between Methods and Functions? "
   ]
  }
 ],
 "metadata": {
  "kernelspec": {
   "display_name": "Python 3",
   "language": "python",
   "name": "python3"
  },
  "language_info": {
   "codemirror_mode": {
    "name": "ipython",
    "version": 3
   },
   "file_extension": ".py",
   "mimetype": "text/x-python",
   "name": "python",
   "nbconvert_exporter": "python",
   "pygments_lexer": "ipython3",
   "version": "3.8.3"
  }
 },
 "nbformat": 4,
 "nbformat_minor": 4
}
